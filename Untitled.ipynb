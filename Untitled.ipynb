{
 "cells": [
  {
   "cell_type": "code",
   "execution_count": 3,
   "id": "d9a5710c-5b67-4f23-a985-bfd71b0eb06a",
   "metadata": {},
   "outputs": [],
   "source": [
    "import scipy.stats"
   ]
  },
  {
   "cell_type": "code",
   "execution_count": 4,
   "id": "c8ee280f-9027-4c46-8774-ebfc3b922040",
   "metadata": {},
   "outputs": [],
   "source": [
    "media = 75\n",
    "desvio_padrao = 10\n",
    "tamanho_amostra = 15\n",
    "graus_liberdade = 8"
   ]
  },
  {
   "cell_type": "code",
   "execution_count": 5,
   "id": "5a4a664a-f25d-49ec-bff5-b15a419d8a87",
   "metadata": {},
   "outputs": [],
   "source": [
    "t= lambda i : (i - media)/(desvio_padrao/(tamanho_amostra**0.5))"
   ]
  },
  {
   "cell_type": "code",
   "execution_count": 6,
   "id": "0cbb6efc-0393-408a-a513-9eee760f4222",
   "metadata": {},
   "outputs": [
    {
     "name": "stdout",
     "output_type": "stream",
     "text": [
      "-17.428425057933378\n"
     ]
    }
   ],
   "source": [
    "menor_30 = t(30)\n",
    "print(menor_30)"
   ]
  },
  {
   "cell_type": "code",
   "execution_count": 7,
   "id": "9bda7d4e-e77c-4fa3-b03b-f58283555ca0",
   "metadata": {},
   "outputs": [
    {
     "data": {
      "text/plain": [
       "5.990587518958594e-08"
      ]
     },
     "execution_count": 7,
     "metadata": {},
     "output_type": "execute_result"
    }
   ],
   "source": [
    "scipy.stats.t.cdf(menor_30,graus_liberdade)"
   ]
  },
  {
   "cell_type": "code",
   "execution_count": 8,
   "id": "0efa094a-0719-43ae-abc9-90bf0186ac9f",
   "metadata": {},
   "outputs": [
    {
     "name": "stdout",
     "output_type": "stream",
     "text": [
      "0.0\n"
     ]
    }
   ],
   "source": [
    "menor_75 = t(75)\n",
    "print(menor_75)"
   ]
  },
  {
   "cell_type": "code",
   "execution_count": 9,
   "id": "ffc80b48-5299-45f7-b6e4-34a4a19a50d3",
   "metadata": {},
   "outputs": [
    {
     "data": {
      "text/plain": [
       "0.5"
      ]
     },
     "execution_count": 9,
     "metadata": {},
     "output_type": "execute_result"
    }
   ],
   "source": [
    "scipy.stats.t.cdf(menor_75,graus_liberdade)"
   ]
  },
  {
   "cell_type": "code",
   "execution_count": 14,
   "id": "641c373a-461c-48ea-9f22-977c724cd7ae",
   "metadata": {},
   "outputs": [
    {
     "name": "stdout",
     "output_type": "stream",
     "text": [
      "0.9999999875951211\n"
     ]
    }
   ],
   "source": [
    "menor_20 = t(20)\n",
    "menor_20 = scipy.stats.t.cdf(menor_20,graus_liberdade)\n",
    "maior_80 = 1 - menor_20\n",
    "print(maior_80)"
   ]
  },
  {
   "cell_type": "code",
   "execution_count": 12,
   "id": "b027bf76-0154-492b-8cfa-e508603d96d6",
   "metadata": {},
   "outputs": [
    {
     "name": "stdout",
     "output_type": "stream",
     "text": [
      "1.2404878911999711e-08\n"
     ]
    }
   ],
   "source": [
    "print(menor_20)"
   ]
  },
  {
   "cell_type": "code",
   "execution_count": 13,
   "id": "f032102d-75b2-4d58-82c0-6c768b8715c1",
   "metadata": {},
   "outputs": [
    {
     "name": "stdout",
     "output_type": "stream",
     "text": [
      "0.04441307605573228\n"
     ]
    }
   ],
   "source": [
    "menor_70 = t(70)\n",
    "menor_70 = scipy.stats.t.cdf(menor_70,graus_liberdade)\n",
    "print(menor_70)"
   ]
  },
  {
   "cell_type": "code",
   "execution_count": 24,
   "id": "31acae1a-74cf-4fa9-af9f-bc6496f732b0",
   "metadata": {},
   "outputs": [],
   "source": [
    "#chance de ocorrer 3 vezes um evento, com a média sendo 2"
   ]
  },
  {
   "cell_type": "code",
   "execution_count": 15,
   "id": "d960568b-55c7-4803-a03a-db666e0068af",
   "metadata": {},
   "outputs": [
    {
     "data": {
      "text/plain": [
       "0.18044704431548356"
      ]
     },
     "execution_count": 15,
     "metadata": {},
     "output_type": "execute_result"
    }
   ],
   "source": [
    "scipy.stats.poisson.pmf(3,2)"
   ]
  },
  {
   "cell_type": "code",
   "execution_count": 16,
   "id": "a52fa772-2fc3-4132-b2fb-633c09a6dc57",
   "metadata": {},
   "outputs": [
    {
     "data": {
      "text/plain": [
       "0.14287653950145296"
      ]
     },
     "execution_count": 16,
     "metadata": {},
     "output_type": "execute_result"
    }
   ],
   "source": [
    "#chance de ocorrer mais de 3 vezes um evento, com a média sendo 2\n",
    "scipy.stats.poisson.sf(3,2)"
   ]
  },
  {
   "cell_type": "code",
   "execution_count": 17,
   "id": "4f1d579e-ea6f-4fe8-847c-468e1ade42fa",
   "metadata": {},
   "outputs": [
    {
     "data": {
      "text/plain": [
       "0.857123460498547"
      ]
     },
     "execution_count": 17,
     "metadata": {},
     "output_type": "execute_result"
    }
   ],
   "source": [
    "#chance de ocorrer menos de 3 vezes um evento, com a média sendo 2\n",
    "scipy.stats.poisson.cdf(3,2)"
   ]
  },
  {
   "cell_type": "code",
   "execution_count": 18,
   "id": "998eaff7-2ad8-4861-982b-5271a13fde23",
   "metadata": {},
   "outputs": [
    {
     "name": "stdout",
     "output_type": "stream",
     "text": [
      "1.0\n"
     ]
    }
   ],
   "source": [
    "total = scipy.stats.poisson.cdf(3,2) + scipy.stats.poisson.sf(3,2)\n",
    "print(total)"
   ]
  },
  {
   "cell_type": "code",
   "execution_count": 19,
   "id": "4b4bf59d-0153-492e-b4c1-b24b7ad25ca2",
   "metadata": {},
   "outputs": [
    {
     "name": "stdout",
     "output_type": "stream",
     "text": [
      "0.16094334219009504\n"
     ]
    }
   ],
   "source": [
    "#eventos aleatórios com apenas chance de sucesso e fracasso \n",
    "sucesso = 1\n",
    "chance_sucesso = 1/512\n",
    "tentativas = 100\n",
    "print(scipy.stats.binom.pmf(sucesso, tentativas, chance_sucesso))"
   ]
  },
  {
   "cell_type": "code",
   "execution_count": 20,
   "id": "459609e3-dc84-442d-89a3-a6794600cd48",
   "metadata": {},
   "outputs": [
    {
     "name": "stdout",
     "output_type": "stream",
     "text": [
      "0.2647262010201502\n"
     ]
    }
   ],
   "source": [
    "#eventos aleatórios com apenas chance de sucesso e fracasso \n",
    "sucesso = 1\n",
    "chance_sucesso = 1/512\n",
    "tentativas = 200\n",
    "print(scipy.stats.binom.pmf(sucesso, tentativas, chance_sucesso))"
   ]
  },
  {
   "cell_type": "code",
   "execution_count": 21,
   "id": "cb2fff6d-ab53-4561-8fe0-29870273eb9b",
   "metadata": {},
   "outputs": [
    {
     "name": "stdout",
     "output_type": "stream",
     "text": [
      "0.326574373408007\n"
     ]
    }
   ],
   "source": [
    "#eventos aleatórios com apenas chance de sucesso e fracasso \n",
    "sucesso = 1\n",
    "chance_sucesso = 1/512\n",
    "tentativas = 300\n",
    "print(scipy.stats.binom.pmf(sucesso, tentativas, chance_sucesso))"
   ]
  },
  {
   "cell_type": "code",
   "execution_count": 22,
   "id": "4a3c1132-90c4-441e-b6e3-0d0281e3cb4d",
   "metadata": {},
   "outputs": [
    {
     "name": "stdout",
     "output_type": "stream",
     "text": [
      "0.3581086032985269\n"
     ]
    }
   ],
   "source": [
    "#eventos aleatórios com apenas chance de sucesso e fracasso \n",
    "sucesso = 1\n",
    "chance_sucesso = 1/512\n",
    "tentativas = 400\n",
    "print(scipy.stats.binom.pmf(sucesso, tentativas, chance_sucesso))"
   ]
  },
  {
   "cell_type": "code",
   "execution_count": 23,
   "id": "92f31740-3c13-4eab-a11e-2980c6d48c72",
   "metadata": {},
   "outputs": [
    {
     "name": "stdout",
     "output_type": "stream",
     "text": [
      "0.36814481114058406\n"
     ]
    }
   ],
   "source": [
    "#eventos aleatórios com apenas chance de sucesso e fracasso \n",
    "sucesso = 1\n",
    "chance_sucesso = 1/512\n",
    "tentativas = 500\n",
    "print(scipy.stats.binom.pmf(sucesso, tentativas, chance_sucesso))"
   ]
  },
  {
   "cell_type": "code",
   "execution_count": 24,
   "id": "e424d81f-2435-475a-964b-96435b47193b",
   "metadata": {},
   "outputs": [
    {
     "name": "stdout",
     "output_type": "stream",
     "text": [
      "0.8224204785913853\n"
     ]
    }
   ],
   "source": [
    "#eventos aleatórios com apenas chance de sucesso e fracasso \n",
    "sucesso = 1\n",
    "chance_sucesso = 1/512\n",
    "tentativas = 100\n",
    "print(scipy.stats.binom.pmf(0, tentativas, chance_sucesso))"
   ]
  },
  {
   "cell_type": "code",
   "execution_count": 25,
   "id": "364a6a57-50ac-4bd6-b20a-166cc8070f6f",
   "metadata": {},
   "outputs": [
    {
     "name": "stdout",
     "output_type": "stream",
     "text": [
      "0.36332379812300947\n"
     ]
    }
   ],
   "source": [
    "#eventos aleatórios com apenas chance de sucesso e fracasso \n",
    "sucesso = 1\n",
    "chance_sucesso = 1/512\n",
    "tentativas = 600\n",
    "print(scipy.stats.binom.pmf(sucesso, tentativas, chance_sucesso))"
   ]
  },
  {
   "cell_type": "code",
   "execution_count": 26,
   "id": "5df19855-aa4d-491a-8c8b-02ff6799d280",
   "metadata": {},
   "outputs": [
    {
     "name": "stdout",
     "output_type": "stream",
     "text": [
      "0.27702455042614105\n"
     ]
    }
   ],
   "source": [
    "sucesso = 1\n",
    "chance_sucesso = 1/512\n",
    "tentativas = 1000\n",
    "print(scipy.stats.binom.pmf(sucesso, tentativas, chance_sucesso))"
   ]
  },
  {
   "cell_type": "code",
   "execution_count": 27,
   "id": "bdaa128b-5b59-4c5d-9d43-56196aab5651",
   "metadata": {},
   "outputs": [
    {
     "name": "stdout",
     "output_type": "stream",
     "text": [
      "0.8224204785913853\n"
     ]
    }
   ],
   "source": [
    "#chance de falhar em todas\n",
    "sucesso = 0\n",
    "chance_sucesso = 1/512\n",
    "tentativas = 100\n",
    "print(scipy.stats.binom.pmf(sucesso, tentativas, chance_sucesso))"
   ]
  },
  {
   "cell_type": "code",
   "execution_count": 28,
   "id": "883b41a9-c262-4ae2-8323-00a47bf33658",
   "metadata": {},
   "outputs": [
    {
     "name": "stdout",
     "output_type": "stream",
     "text": [
      "0.05631351470947268\n"
     ]
    }
   ],
   "source": [
    "#chance de zerar uma prova\n",
    "chance = 0.25\n",
    "tentativas = 10\n",
    "print(scipy.stats.binom.pmf(0, tentativas, chance))"
   ]
  },
  {
   "cell_type": "code",
   "execution_count": 29,
   "id": "46320a11-b5f6-46d5-8cfe-d32a54db1068",
   "metadata": {},
   "outputs": [
    {
     "name": "stdout",
     "output_type": "stream",
     "text": [
      "9.5367431640625e-07\n"
     ]
    }
   ],
   "source": [
    "#chance de acertar tudo em uma prova\n",
    "chance = 0.25\n",
    "tentativas = 10\n",
    "print(scipy.stats.binom.pmf(10, tentativas, chance))"
   ]
  },
  {
   "cell_type": "code",
   "execution_count": 30,
   "id": "40e23c6e-5e25-4607-9870-fd8f45cf1102",
   "metadata": {},
   "outputs": [
    {
     "name": "stdout",
     "output_type": "stream",
     "text": [
      "0.7810652235156252\n"
     ]
    }
   ],
   "source": [
    "#chance de não pegar shiny pokémon\n",
    "chance = 1/2024\n",
    "tentativas = 500\n",
    "print(scipy.stats.binom.pmf(0, tentativas, chance))"
   ]
  },
  {
   "cell_type": "code",
   "execution_count": 31,
   "id": "ca766902-9ea6-45fb-b3bc-b317ebd4be66",
   "metadata": {},
   "outputs": [
    {
     "name": "stdout",
     "output_type": "stream",
     "text": [
      "0.37624399698567684\n"
     ]
    }
   ],
   "source": [
    "#chance de não pegar shiny pokémon\n",
    "chance = 1/512\n",
    "tentativas = 500\n",
    "print(scipy.stats.binom.pmf(0, tentativas, chance))"
   ]
  },
  {
   "cell_type": "code",
   "execution_count": 32,
   "id": "d626ebd6-83c4-4732-b0e4-c3336a4bab29",
   "metadata": {},
   "outputs": [
    {
     "name": "stdout",
     "output_type": "stream",
     "text": [
      "0.676375443606484\n"
     ]
    }
   ],
   "source": [
    "#chance de não pegar shiny pokémon\n",
    "chance = 1/512\n",
    "tentativas = 200\n",
    "print(scipy.stats.binom.pmf(0, tentativas, chance))"
   ]
  },
  {
   "cell_type": "code",
   "execution_count": 33,
   "id": "053d2b6f-5780-4cef-9654-9e69f5f70961",
   "metadata": {},
   "outputs": [
    {
     "name": "stdout",
     "output_type": "stream",
     "text": [
      "0.37624399698567684\n"
     ]
    }
   ],
   "source": [
    "#chance de não pegar shiny pokémon\n",
    "chance = 1/512\n",
    "tentativas = 500\n",
    "print(scipy.stats.binom.pmf(0, tentativas, chance))"
   ]
  },
  {
   "cell_type": "code",
   "execution_count": 34,
   "id": "a9696a40-caf6-4b88-bdae-46033fba0a83",
   "metadata": {},
   "outputs": [
    {
     "name": "stdout",
     "output_type": "stream",
     "text": [
      "0.5562650160383052\n"
     ]
    }
   ],
   "source": [
    "#chance de não pegar shiny pokémon\n",
    "chance = 1/512\n",
    "tentativas = 300\n",
    "print(scipy.stats.binom.pmf(0, tentativas, chance))"
   ]
  },
  {
   "cell_type": "code",
   "execution_count": 35,
   "id": "be886618-08f3-44e0-97cc-905062669ab4",
   "metadata": {},
   "outputs": [
    {
     "name": "stdout",
     "output_type": "stream",
     "text": [
      "0.45748374071386805\n"
     ]
    }
   ],
   "source": [
    "chance = 1/512\n",
    "tentativas = 400\n",
    "print(scipy.stats.binom.pmf(0, tentativas, chance))"
   ]
  },
  {
   "cell_type": "code",
   "execution_count": 36,
   "id": "21340474-4681-4a77-84c5-b1b4bc2b8c0e",
   "metadata": {},
   "outputs": [
    {
     "name": "stdout",
     "output_type": "stream",
     "text": [
      "0.414880116614601\n"
     ]
    }
   ],
   "source": [
    "chance = 1/512\n",
    "tentativas = 450\n",
    "print(scipy.stats.binom.pmf(0, tentativas, chance))"
   ]
  }
 ],
 "metadata": {
  "kernelspec": {
   "display_name": "Python 3 (ipykernel)",
   "language": "python",
   "name": "python3"
  },
  "language_info": {
   "codemirror_mode": {
    "name": "ipython",
    "version": 3
   },
   "file_extension": ".py",
   "mimetype": "text/x-python",
   "name": "python",
   "nbconvert_exporter": "python",
   "pygments_lexer": "ipython3",
   "version": "3.11.4"
  }
 },
 "nbformat": 4,
 "nbformat_minor": 5
}
