{
 "cells": [
  {
   "cell_type": "code",
   "execution_count": 3,
   "id": "f9014768-49d2-49b3-9567-013c4cf77a87",
   "metadata": {},
   "outputs": [],
   "source": [
    "import scipy #C\n",
    "import numpy #C\n",
    "import pandas #C\n",
    "import matplotlib.pyplot as plt\n",
    "from scipy.stats import norm\n",
    "from sklearn.model_selection import train_test_split"
   ]
  },
  {
   "cell_type": "code",
   "execution_count": 4,
   "id": "18380092-7866-48bb-be98-6a582b33c0ce",
   "metadata": {},
   "outputs": [
    {
     "data": {
      "text/plain": [
       "0.15865525393145707"
      ]
     },
     "execution_count": 4,
     "metadata": {},
     "output_type": "execute_result"
    }
   ],
   "source": [
    "norm.cdf(6, 8, 2)"
   ]
  },
  {
   "cell_type": "code",
   "execution_count": 5,
   "id": "cd9ae6f1-01b1-43bb-804e-e604360b3313",
   "metadata": {},
   "outputs": [
    {
     "data": {
      "text/plain": [
       "0.0477903522728147"
      ]
     },
     "execution_count": 5,
     "metadata": {},
     "output_type": "execute_result"
    }
   ],
   "source": [
    "#chance de salário menor que 10.000\n",
    "norm.cdf(10_000, 15_000, 3_000)\n",
    "#10_000 objetivo\n",
    "#15_000 média\n",
    "#3_000 desvio padrão"
   ]
  },
  {
   "cell_type": "code",
   "execution_count": 6,
   "id": "469afbbe-60b4-401c-a574-ddc9b183ece8",
   "metadata": {},
   "outputs": [
    {
     "name": "stdout",
     "output_type": "stream",
     "text": [
      "0.2520634772137261\n"
     ]
    }
   ],
   "source": [
    "#chance do salário estar entre 5_000 e 13_000\n",
    "#salário até 13_000\n",
    "salario13 = norm.cdf(13_000, 15_000, 3_000)\n",
    "#salário até 5_000\n",
    "salario5 = norm.cdf(5_000, 15_000, 3_000)\n",
    "#salário entre 5_000 e 13_000, é o salário de até 13_000, menos salários menores que 5_000\n",
    "salario_5_13 = salario13 - salario5\n",
    "print(salario_5_13)"
   ]
  },
  {
   "cell_type": "code",
   "execution_count": 7,
   "id": "3784d3af-356f-4b2d-897e-990e564c0990",
   "metadata": {},
   "outputs": [
    {
     "name": "stdout",
     "output_type": "stream",
     "text": [
      "0.9535595457588154\n"
     ]
    }
   ],
   "source": [
    "#salário menor que 6_000 ou maior que 10_000\n",
    "#salário de até 6_000\n",
    "salario6 = norm.cdf(6_000, 15_000, 3_000)\n",
    "#salário maior que 10_000, é 1 - salário de até 10_000\n",
    "salario10 = 1-norm.cdf(10_000, 15_000, 3_000)\n",
    "print(salario10+salario6)"
   ]
  },
  {
   "cell_type": "code",
   "execution_count": null,
   "id": "bf19402f-f5de-4046-8f5c-2de62d5ad025",
   "metadata": {},
   "outputs": [],
   "source": []
  }
 ],
 "metadata": {
  "kernelspec": {
   "display_name": "Python 3 (ipykernel)",
   "language": "python",
   "name": "python3"
  },
  "language_info": {
   "codemirror_mode": {
    "name": "ipython",
    "version": 3
   },
   "file_extension": ".py",
   "mimetype": "text/x-python",
   "name": "python",
   "nbconvert_exporter": "python",
   "pygments_lexer": "ipython3",
   "version": "3.11.4"
  }
 },
 "nbformat": 4,
 "nbformat_minor": 5
}
