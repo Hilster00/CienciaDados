{
 "cells": [
  {
   "cell_type": "code",
   "execution_count": 12,
   "id": "bcc01d12-0469-48e7-9acb-4d36c3b35b27",
   "metadata": {},
   "outputs": [],
   "source": [
    "import pandas\n",
    "import numpy\n",
    "import matplotlib.pyplot as plt"
   ]
  },
  {
   "cell_type": "code",
   "execution_count": 15,
   "id": "5711869d-7523-463c-be24-95bbaeaba383",
   "metadata": {},
   "outputs": [],
   "source": [
    "from sklearn.model_selection import train_test_split"
   ]
  },
  {
   "cell_type": "code",
   "execution_count": 5,
   "id": "231c6205-8e53-46bf-9aba-9f2940ef54c5",
   "metadata": {},
   "outputs": [],
   "source": [
    "dados = pandas.read_csv(\".\\DropsBrawl\\Starr Drops.txt\", delimiter=\"|\")"
   ]
  },
  {
   "cell_type": "code",
   "execution_count": 6,
   "id": "f6464463-9858-4a93-be43-ccad249189ff",
   "metadata": {
    "scrolled": true
   },
   "outputs": [
    {
     "name": "stdout",
     "output_type": "stream",
     "text": [
      "           data data_modificacao         tipo    raridade\n",
      "0    27/06/2023       30/12/2023       Diário        Raro\n",
      "1    27/06/2023       30/12/2023       Diário        Raro\n",
      "2    27/06/2023       30/12/2023       Diário    Lendário\n",
      "3    28/06/2023       30/12/2023       Diário        Raro\n",
      "4    28/06/2023       30/12/2023       Diário  Super Raro\n",
      "..          ...              ...          ...         ...\n",
      "879  15/01/2024       15/01/2024       Diário        Raro\n",
      "880  15/01/2024       15/01/2024       Diário  Super Raro\n",
      "881  15/01/2024       15/01/2024       Diário  Super Raro\n",
      "882  15/01/2024       15/01/2024  Promocional        Raro\n",
      "883  15/01/2024       15/01/2024  Promocional    Lendário\n",
      "\n",
      "[884 rows x 4 columns]\n"
     ]
    }
   ],
   "source": [
    "print(dados)"
   ]
  },
  {
   "cell_type": "code",
   "execution_count": 8,
   "id": "04c2f9fe-7791-43fe-893e-8bae8e2c8f49",
   "metadata": {},
   "outputs": [
    {
     "data": {
      "text/plain": [
       "tipo\n",
       "Diário         676\n",
       "Mega Pig       119\n",
       "Promocional     89\n",
       "Name: count, dtype: int64"
      ]
     },
     "execution_count": 8,
     "metadata": {},
     "output_type": "execute_result"
    }
   ],
   "source": [
    "dados['tipo'].value_counts()"
   ]
  },
  {
   "cell_type": "code",
   "execution_count": 9,
   "id": "fe6154a7-fdb1-409b-8ce7-c1b277dd0886",
   "metadata": {},
   "outputs": [
    {
     "data": {
      "text/plain": [
       "raridade\n",
       "Raro          439\n",
       "Super Raro    245\n",
       "Épico         130\n",
       "Mítico         43\n",
       "Lendário       27\n",
       "Name: count, dtype: int64"
      ]
     },
     "execution_count": 9,
     "metadata": {},
     "output_type": "execute_result"
    }
   ],
   "source": [
    "dados['raridade'].value_counts()"
   ]
  },
  {
   "cell_type": "code",
   "execution_count": 17,
   "id": "94afec3d-a98f-41ee-a437-3ec6af2e51f4",
   "metadata": {},
   "outputs": [
    {
     "data": {
      "text/plain": [
       "0            Raro\n",
       "1            Raro\n",
       "2        Lendário\n",
       "3            Raro\n",
       "4      Super Raro\n",
       "          ...    \n",
       "879          Raro\n",
       "880    Super Raro\n",
       "881    Super Raro\n",
       "882          Raro\n",
       "883      Lendário\n",
       "Name: raridade, Length: 884, dtype: object"
      ]
     },
     "execution_count": 17,
     "metadata": {},
     "output_type": "execute_result"
    }
   ],
   "source": [
    "dados.iloc[:,3]"
   ]
  },
  {
   "cell_type": "code",
   "execution_count": 38,
   "id": "828d89d0-288b-4a71-8e9b-38389e6334dc",
   "metadata": {},
   "outputs": [],
   "source": [
    "#teste de stratificação\n",
    "x, _, y, _ = train_test_split(dados.iloc[:,[0,1,3]], dados.iloc[:,2], test_size=0.5, stratify = dados.iloc[:,2])"
   ]
  },
  {
   "cell_type": "code",
   "execution_count": 39,
   "id": "aa827f65-0c08-452a-93a1-563980bc76aa",
   "metadata": {},
   "outputs": [],
   "source": [
    "#testei mudar a coluna para ver o comportamento\n",
    "tx, _, ty, _ = train_test_split(dados.iloc[:,[0,1,3]], dados.iloc[:,2], test_size=0.5, stratify = dados.iloc[:,3])"
   ]
  },
  {
   "cell_type": "code",
   "execution_count": 54,
   "id": "b4c1f10c-5282-4ba0-bf75-aff1a2002964",
   "metadata": {},
   "outputs": [
    {
     "data": {
      "text/plain": [
       "raridade\n",
       "Raro          439\n",
       "Super Raro    245\n",
       "Épico         130\n",
       "Mítico         43\n",
       "Lendário       27\n",
       "Name: count, dtype: int64"
      ]
     },
     "execution_count": 54,
     "metadata": {},
     "output_type": "execute_result"
    }
   ],
   "source": [
    "#base original\n",
    "dados[\"raridade\"].value_counts()"
   ]
  },
  {
   "cell_type": "code",
   "execution_count": 55,
   "id": "8049418b-c5ad-40d7-a1ca-8bcfb853ed54",
   "metadata": {},
   "outputs": [
    {
     "data": {
      "text/plain": [
       "raridade\n",
       "Raro          221\n",
       "Super Raro    123\n",
       "Épico          56\n",
       "Mítico         26\n",
       "Lendário       16\n",
       "Name: count, dtype: int64"
      ]
     },
     "execution_count": 55,
     "metadata": {},
     "output_type": "execute_result"
    }
   ],
   "source": [
    "#estratificado baseado no tipo\n",
    "x[\"raridade\"].value_counts()"
   ]
  },
  {
   "cell_type": "code",
   "execution_count": 56,
   "id": "2ff7cab4-5cb2-4492-b77e-fca1c09f70d8",
   "metadata": {},
   "outputs": [
    {
     "data": {
      "text/plain": [
       "raridade\n",
       "Raro          220\n",
       "Super Raro    122\n",
       "Épico          65\n",
       "Mítico         21\n",
       "Lendário       14\n",
       "Name: count, dtype: int64"
      ]
     },
     "execution_count": 56,
     "metadata": {},
     "output_type": "execute_result"
    }
   ],
   "source": [
    "#estratificado baseado na raridade\n",
    "tx[\"raridade\"].value_counts()"
   ]
  },
  {
   "cell_type": "code",
   "execution_count": 57,
   "id": "109f625f-1f29-4dfe-b898-1f6f214f6471",
   "metadata": {},
   "outputs": [
    {
     "data": {
      "text/plain": [
       "tipo\n",
       "Diário         676\n",
       "Mega Pig       119\n",
       "Promocional     89\n",
       "Name: count, dtype: int64"
      ]
     },
     "execution_count": 57,
     "metadata": {},
     "output_type": "execute_result"
    }
   ],
   "source": [
    "#base original\n",
    "dados[\"tipo\"].value_counts()"
   ]
  },
  {
   "cell_type": "code",
   "execution_count": 58,
   "id": "e0265ffd-4f24-4fcf-ba78-381c5ef4161c",
   "metadata": {},
   "outputs": [
    {
     "data": {
      "text/plain": [
       "tipo\n",
       "Diário         338\n",
       "Mega Pig        60\n",
       "Promocional     44\n",
       "Name: count, dtype: int64"
      ]
     },
     "execution_count": 58,
     "metadata": {},
     "output_type": "execute_result"
    }
   ],
   "source": [
    "#estratificado baseado no tipo\n",
    "y.value_counts()"
   ]
  },
  {
   "cell_type": "code",
   "execution_count": 59,
   "id": "4ad61b27-8e8c-40f1-9468-2cc28f004bc4",
   "metadata": {},
   "outputs": [
    {
     "data": {
      "text/plain": [
       "tipo\n",
       "Diário         337\n",
       "Mega Pig        62\n",
       "Promocional     43\n",
       "Name: count, dtype: int64"
      ]
     },
     "execution_count": 59,
     "metadata": {},
     "output_type": "execute_result"
    }
   ],
   "source": [
    "#estratificado baseado na raridade\n",
    "ty.value_counts()"
   ]
  },
  {
   "cell_type": "code",
   "execution_count": 60,
   "id": "9c6c4e3f-4afd-4c8e-b01d-30a2e37971e5",
   "metadata": {},
   "outputs": [
    {
     "data": {
      "text/html": [
       "<div>\n",
       "<style scoped>\n",
       "    .dataframe tbody tr th:only-of-type {\n",
       "        vertical-align: middle;\n",
       "    }\n",
       "\n",
       "    .dataframe tbody tr th {\n",
       "        vertical-align: top;\n",
       "    }\n",
       "\n",
       "    .dataframe thead th {\n",
       "        text-align: right;\n",
       "    }\n",
       "</style>\n",
       "<table border=\"1\" class=\"dataframe\">\n",
       "  <thead>\n",
       "    <tr style=\"text-align: right;\">\n",
       "      <th></th>\n",
       "      <th>data</th>\n",
       "      <th>data_modificacao</th>\n",
       "      <th>raridade</th>\n",
       "    </tr>\n",
       "  </thead>\n",
       "  <tbody>\n",
       "    <tr>\n",
       "      <th>793</th>\n",
       "      <td>31/12/2023</td>\n",
       "      <td>14/01/2024</td>\n",
       "      <td>Super Raro</td>\n",
       "    </tr>\n",
       "    <tr>\n",
       "      <th>630</th>\n",
       "      <td>04/12/2023</td>\n",
       "      <td>14/01/2024</td>\n",
       "      <td>Raro</td>\n",
       "    </tr>\n",
       "    <tr>\n",
       "      <th>514</th>\n",
       "      <td>16/11/2023</td>\n",
       "      <td>14/01/2024</td>\n",
       "      <td>Épico</td>\n",
       "    </tr>\n",
       "    <tr>\n",
       "      <th>130</th>\n",
       "      <td>09/08/2023</td>\n",
       "      <td>07/01/2024</td>\n",
       "      <td>Épico</td>\n",
       "    </tr>\n",
       "    <tr>\n",
       "      <th>552</th>\n",
       "      <td>22/11/2023</td>\n",
       "      <td>14/01/2024</td>\n",
       "      <td>Super Raro</td>\n",
       "    </tr>\n",
       "    <tr>\n",
       "      <th>...</th>\n",
       "      <td>...</td>\n",
       "      <td>...</td>\n",
       "      <td>...</td>\n",
       "    </tr>\n",
       "    <tr>\n",
       "      <th>450</th>\n",
       "      <td>04/11/2023</td>\n",
       "      <td>14/01/2024</td>\n",
       "      <td>Super Raro</td>\n",
       "    </tr>\n",
       "    <tr>\n",
       "      <th>144</th>\n",
       "      <td>14/08/2023</td>\n",
       "      <td>07/01/2024</td>\n",
       "      <td>Épico</td>\n",
       "    </tr>\n",
       "    <tr>\n",
       "      <th>737</th>\n",
       "      <td>18/12/2023</td>\n",
       "      <td>14/01/2024</td>\n",
       "      <td>Super Raro</td>\n",
       "    </tr>\n",
       "    <tr>\n",
       "      <th>427</th>\n",
       "      <td>29/10/2023</td>\n",
       "      <td>14/01/2024</td>\n",
       "      <td>Raro</td>\n",
       "    </tr>\n",
       "    <tr>\n",
       "      <th>286</th>\n",
       "      <td>01/10/2023</td>\n",
       "      <td>14/01/2024</td>\n",
       "      <td>Super Raro</td>\n",
       "    </tr>\n",
       "  </tbody>\n",
       "</table>\n",
       "<p>442 rows × 3 columns</p>\n",
       "</div>"
      ],
      "text/plain": [
       "           data data_modificacao    raridade\n",
       "793  31/12/2023       14/01/2024  Super Raro\n",
       "630  04/12/2023       14/01/2024        Raro\n",
       "514  16/11/2023       14/01/2024       Épico\n",
       "130  09/08/2023       07/01/2024       Épico\n",
       "552  22/11/2023       14/01/2024  Super Raro\n",
       "..          ...              ...         ...\n",
       "450  04/11/2023       14/01/2024  Super Raro\n",
       "144  14/08/2023       07/01/2024       Épico\n",
       "737  18/12/2023       14/01/2024  Super Raro\n",
       "427  29/10/2023       14/01/2024        Raro\n",
       "286  01/10/2023       14/01/2024  Super Raro\n",
       "\n",
       "[442 rows x 3 columns]"
      ]
     },
     "execution_count": 60,
     "metadata": {},
     "output_type": "execute_result"
    }
   ],
   "source": [
    "x"
   ]
  },
  {
   "cell_type": "code",
   "execution_count": 61,
   "id": "52963d74-f4ba-4ad0-a2af-44e9f8edd634",
   "metadata": {},
   "outputs": [
    {
     "data": {
      "text/plain": [
       "793         Diário\n",
       "630       Mega Pig\n",
       "514         Diário\n",
       "130         Diário\n",
       "552         Diário\n",
       "          ...     \n",
       "450    Promocional\n",
       "144         Diário\n",
       "737       Mega Pig\n",
       "427         Diário\n",
       "286         Diário\n",
       "Name: tipo, Length: 442, dtype: object"
      ]
     },
     "execution_count": 61,
     "metadata": {},
     "output_type": "execute_result"
    }
   ],
   "source": [
    "y"
   ]
  },
  {
   "cell_type": "code",
   "execution_count": null,
   "id": "32e2c415-cd58-41eb-9a7a-c3e65cb1a4ee",
   "metadata": {},
   "outputs": [],
   "source": [
    "#from sklearn.model_selection import train_test_split\n",
    "#a, _, b, _ = train_test_split(dados.iloc[l_b,c_a], dados.iloc[l_b,c_b], test_size=tam, stratify = dados.iloc[l_c,c_c])\n",
    "#l_a são as linhas da tabela que vão para a, c_a são as colunas\n",
    "#l_b são as linhas da tabela que vão para b, c_b são as colunas\n",
    "#tam é quanto quer dividir, ex em 40%, teria que colocar tam=0.6, o 1(100%) - 0.4(40% desejado)\n",
    "#l_c são as linhas que serão baseadas para dividir a colunas que serão usadas de base para dividir no tamanho desejado(com base nos valores da linha\n",
    "#se tiver 10 valores 1 e 20 valores 2 e dividir em 40%, ele irá separar 4 valores 1 e 8 valores 2.), c_c são as colunas\n"
   ]
  },
  {
   "cell_type": "code",
   "execution_count": 63,
   "id": "a39b08eb-2903-4abb-9438-75f95b6afd80",
   "metadata": {},
   "outputs": [],
   "source": [
    "a, _, b, _ = train_test_split(dados.iloc[:,[0,1,3]], dados.iloc[:,2], test_size=0.6, stratify = dados.iloc[:,2])"
   ]
  },
  {
   "cell_type": "code",
   "execution_count": 64,
   "id": "1996a468-e9b6-475b-b107-396b1ba78584",
   "metadata": {},
   "outputs": [
    {
     "data": {
      "text/html": [
       "<div>\n",
       "<style scoped>\n",
       "    .dataframe tbody tr th:only-of-type {\n",
       "        vertical-align: middle;\n",
       "    }\n",
       "\n",
       "    .dataframe tbody tr th {\n",
       "        vertical-align: top;\n",
       "    }\n",
       "\n",
       "    .dataframe thead th {\n",
       "        text-align: right;\n",
       "    }\n",
       "</style>\n",
       "<table border=\"1\" class=\"dataframe\">\n",
       "  <thead>\n",
       "    <tr style=\"text-align: right;\">\n",
       "      <th></th>\n",
       "      <th>data</th>\n",
       "      <th>data_modificacao</th>\n",
       "      <th>raridade</th>\n",
       "    </tr>\n",
       "  </thead>\n",
       "  <tbody>\n",
       "    <tr>\n",
       "      <th>158</th>\n",
       "      <td>19/08/2023</td>\n",
       "      <td>07/01/2024</td>\n",
       "      <td>Raro</td>\n",
       "    </tr>\n",
       "    <tr>\n",
       "      <th>684</th>\n",
       "      <td>09/12/2023</td>\n",
       "      <td>14/01/2024</td>\n",
       "      <td>Raro</td>\n",
       "    </tr>\n",
       "    <tr>\n",
       "      <th>444</th>\n",
       "      <td>03/11/2023</td>\n",
       "      <td>14/01/2024</td>\n",
       "      <td>Raro</td>\n",
       "    </tr>\n",
       "    <tr>\n",
       "      <th>834</th>\n",
       "      <td>08/01/2024</td>\n",
       "      <td>14/01/2024</td>\n",
       "      <td>Épico</td>\n",
       "    </tr>\n",
       "    <tr>\n",
       "      <th>602</th>\n",
       "      <td>28/11/2023</td>\n",
       "      <td>14/01/2024</td>\n",
       "      <td>Raro</td>\n",
       "    </tr>\n",
       "    <tr>\n",
       "      <th>...</th>\n",
       "      <td>...</td>\n",
       "      <td>...</td>\n",
       "      <td>...</td>\n",
       "    </tr>\n",
       "    <tr>\n",
       "      <th>189</th>\n",
       "      <td>29/08/2023</td>\n",
       "      <td>07/01/2024</td>\n",
       "      <td>Raro</td>\n",
       "    </tr>\n",
       "    <tr>\n",
       "      <th>164</th>\n",
       "      <td>21/08/2023</td>\n",
       "      <td>07/01/2024</td>\n",
       "      <td>Super Raro</td>\n",
       "    </tr>\n",
       "    <tr>\n",
       "      <th>808</th>\n",
       "      <td>05/01/2024</td>\n",
       "      <td>14/01/2024</td>\n",
       "      <td>Raro</td>\n",
       "    </tr>\n",
       "    <tr>\n",
       "      <th>592</th>\n",
       "      <td>28/11/2023</td>\n",
       "      <td>14/01/2024</td>\n",
       "      <td>Super Raro</td>\n",
       "    </tr>\n",
       "    <tr>\n",
       "      <th>224</th>\n",
       "      <td>10/09/2023</td>\n",
       "      <td>14/01/2024</td>\n",
       "      <td>Mítico</td>\n",
       "    </tr>\n",
       "  </tbody>\n",
       "</table>\n",
       "<p>353 rows × 3 columns</p>\n",
       "</div>"
      ],
      "text/plain": [
       "           data data_modificacao    raridade\n",
       "158  19/08/2023       07/01/2024        Raro\n",
       "684  09/12/2023       14/01/2024        Raro\n",
       "444  03/11/2023       14/01/2024        Raro\n",
       "834  08/01/2024       14/01/2024       Épico\n",
       "602  28/11/2023       14/01/2024        Raro\n",
       "..          ...              ...         ...\n",
       "189  29/08/2023       07/01/2024        Raro\n",
       "164  21/08/2023       07/01/2024  Super Raro\n",
       "808  05/01/2024       14/01/2024        Raro\n",
       "592  28/11/2023       14/01/2024  Super Raro\n",
       "224  10/09/2023       14/01/2024      Mítico\n",
       "\n",
       "[353 rows x 3 columns]"
      ]
     },
     "execution_count": 64,
     "metadata": {},
     "output_type": "execute_result"
    }
   ],
   "source": [
    "a"
   ]
  },
  {
   "cell_type": "code",
   "execution_count": 65,
   "id": "8aeb8e65-bc48-45fb-9bdc-84a284e07cfa",
   "metadata": {},
   "outputs": [
    {
     "data": {
      "text/plain": [
       "raridade\n",
       "Raro          163\n",
       "Super Raro    101\n",
       "Épico          59\n",
       "Mítico         19\n",
       "Lendário       11\n",
       "Name: count, dtype: int64"
      ]
     },
     "execution_count": 65,
     "metadata": {},
     "output_type": "execute_result"
    }
   ],
   "source": [
    "a[\"raridade\"].value_counts()"
   ]
  },
  {
   "cell_type": "code",
   "execution_count": 66,
   "id": "b15835f3-b739-489c-b6b2-60141091f81a",
   "metadata": {},
   "outputs": [
    {
     "data": {
      "text/plain": [
       "tipo\n",
       "Diário         270\n",
       "Mega Pig        47\n",
       "Promocional     36\n",
       "Name: count, dtype: int64"
      ]
     },
     "execution_count": 66,
     "metadata": {},
     "output_type": "execute_result"
    }
   ],
   "source": [
    "b.value_counts()"
   ]
  }
 ],
 "metadata": {
  "kernelspec": {
   "display_name": "Python 3 (ipykernel)",
   "language": "python",
   "name": "python3"
  },
  "language_info": {
   "codemirror_mode": {
    "name": "ipython",
    "version": 3
   },
   "file_extension": ".py",
   "mimetype": "text/x-python",
   "name": "python",
   "nbconvert_exporter": "python",
   "pygments_lexer": "ipython3",
   "version": "3.11.4"
  }
 },
 "nbformat": 4,
 "nbformat_minor": 5
}
