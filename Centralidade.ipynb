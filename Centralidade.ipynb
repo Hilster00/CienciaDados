{
 "cells": [
  {
   "cell_type": "code",
   "execution_count": 1,
   "id": "dc92d54c-067f-47c3-9d3d-8b51b0a9d13c",
   "metadata": {},
   "outputs": [],
   "source": [
    "import numpy\n",
    "import scipy"
   ]
  },
  {
   "cell_type": "code",
   "execution_count": 2,
   "id": "939aea8c-ce47-488e-84e9-fd88e0edb31d",
   "metadata": {},
   "outputs": [],
   "source": [
    "salarios = [10_000, 30_000, 20_000, 5_000, 8_000, 13_000, 15_000]\n",
    "#media\n",
    "media = numpy.mean(salarios)\n",
    "mediana = numpy.median(salarios)"
   ]
  },
  {
   "cell_type": "code",
   "execution_count": 3,
   "id": "d335e6ec-c009-4211-8a3a-e6d026c361f9",
   "metadata": {},
   "outputs": [
    {
     "name": "stdout",
     "output_type": "stream",
     "text": [
      "Média: 14428.57142857143\n",
      "Mediana: 13000.0\n"
     ]
    }
   ],
   "source": [
    "print(f\"Média: {media}\\nMediana: {mediana}\")"
   ]
  },
  {
   "cell_type": "code",
   "execution_count": 4,
   "id": "3859bddd-c890-425e-a39d-3c91e8d25ddc",
   "metadata": {},
   "outputs": [],
   "source": [
    "#\n",
    "quartis = numpy.quantile(salarios,[0, 0.25, 0.5, 0.75, 1])"
   ]
  },
  {
   "cell_type": "code",
   "execution_count": 5,
   "id": "2f874676-566a-4284-92fe-e8f26900e00f",
   "metadata": {},
   "outputs": [
    {
     "name": "stdout",
     "output_type": "stream",
     "text": [
      "Quantis: [ 5000.  9000. 13000. 17500. 30000.]\n"
     ]
    }
   ],
   "source": [
    "print(f\"Quantis: {quartis}\")"
   ]
  },
  {
   "cell_type": "code",
   "execution_count": 6,
   "id": "37b622b1-fd44-4149-b240-3fc82b6d1169",
   "metadata": {},
   "outputs": [
    {
     "data": {
      "text/plain": [
       "8423.323628614833"
      ]
     },
     "execution_count": 6,
     "metadata": {},
     "output_type": "execute_result"
    }
   ],
   "source": [
    "#desvio padrao\n",
    "numpy.std(salarios,ddof=1)"
   ]
  },
  {
   "cell_type": "code",
   "execution_count": 8,
   "id": "dd1c5cd4-6826-4834-b0f3-508822843f1f",
   "metadata": {},
   "outputs": [
    {
     "data": {
      "text/plain": [
       "DescribeResult(nobs=7, minmax=(5000, 30000), mean=14428.57142857143, variance=70952380.95238096, skewness=0.8298686764713675, kurtosis=-0.3057722625106982)"
      ]
     },
     "execution_count": 8,
     "metadata": {},
     "output_type": "execute_result"
    }
   ],
   "source": [
    "scipy.stats.describe(salarios)"
   ]
  }
 ],
 "metadata": {
  "kernelspec": {
   "display_name": "Python 3 (ipykernel)",
   "language": "python",
   "name": "python3"
  },
  "language_info": {
   "codemirror_mode": {
    "name": "ipython",
    "version": 3
   },
   "file_extension": ".py",
   "mimetype": "text/x-python",
   "name": "python",
   "nbconvert_exporter": "python",
   "pygments_lexer": "ipython3",
   "version": "3.11.4"
  }
 },
 "nbformat": 4,
 "nbformat_minor": 5
}
