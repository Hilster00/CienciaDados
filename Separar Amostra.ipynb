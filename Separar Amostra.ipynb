{
 "cells": [
  {
   "cell_type": "code",
   "execution_count": 2,
   "id": "7bb019c9-54e8-4a5f-9ea6-c025460fa298",
   "metadata": {},
   "outputs": [],
   "source": [
    "import pandas\n",
    "import matplotlib.pyplot as plt\n",
    "import numpy"
   ]
  },
  {
   "cell_type": "code",
   "execution_count": 3,
   "id": "fe3f59fe-9b3b-47b9-9479-e54e124e4028",
   "metadata": {},
   "outputs": [],
   "source": [
    "dados = pandas.read_csv(r\"C:\\Users\\Hilster\\Documents\\Códigos\\DropsBrawl\\Starr Drops.txt\", delimiter=\"|\")"
   ]
  },
  {
   "cell_type": "code",
   "execution_count": 4,
   "id": "77f29bdd-1b5d-4ce1-9650-73cbecc0cf56",
   "metadata": {},
   "outputs": [
    {
     "name": "stdout",
     "output_type": "stream",
     "text": [
      "           data data_modificacao         tipo    raridade\n",
      "0    27/06/2023       30/12/2023       Diário        Raro\n",
      "1    27/06/2023       30/12/2023       Diário        Raro\n",
      "2    27/06/2023       30/12/2023       Diário    Lendário\n",
      "3    28/06/2023       30/12/2023       Diário        Raro\n",
      "4    28/06/2023       30/12/2023       Diário  Super Raro\n",
      "..          ...              ...          ...         ...\n",
      "879  15/01/2024       15/01/2024       Diário        Raro\n",
      "880  15/01/2024       15/01/2024       Diário  Super Raro\n",
      "881  15/01/2024       15/01/2024       Diário  Super Raro\n",
      "882  15/01/2024       15/01/2024  Promocional        Raro\n",
      "883  15/01/2024       15/01/2024  Promocional    Lendário\n",
      "\n",
      "[884 rows x 4 columns]\n"
     ]
    }
   ],
   "source": [
    "print(dados)"
   ]
  },
  {
   "cell_type": "code",
   "execution_count": 31,
   "id": "36a8f91e-101f-488b-81dd-7e3880a5d26d",
   "metadata": {},
   "outputs": [
    {
     "data": {
      "text/plain": [
       "tipo\n",
       "Diário         676\n",
       "Mega Pig       119\n",
       "Promocional     89\n",
       "Name: count, dtype: int64"
      ]
     },
     "execution_count": 31,
     "metadata": {},
     "output_type": "execute_result"
    }
   ],
   "source": [
    "dados[\"tipo\"].value_counts()"
   ]
  },
  {
   "cell_type": "code",
   "execution_count": 6,
   "id": "a1d126fd-5de6-476e-bbc9-05eaf0a937c9",
   "metadata": {},
   "outputs": [
    {
     "data": {
      "text/plain": [
       "raridade\n",
       "Raro          439\n",
       "Super Raro    245\n",
       "Épico         130\n",
       "Mítico         43\n",
       "Lendário       27\n",
       "Name: count, dtype: int64"
      ]
     },
     "execution_count": 6,
     "metadata": {},
     "output_type": "execute_result"
    }
   ],
   "source": [
    "dados[\"raridade\"].value_counts()"
   ]
  },
  {
   "cell_type": "code",
   "execution_count": 7,
   "id": "c05d6150-72f1-429a-b59c-b7eb3b1bdc80",
   "metadata": {},
   "outputs": [
    {
     "data": {
      "text/plain": [
       "884"
      ]
     },
     "execution_count": 7,
     "metadata": {},
     "output_type": "execute_result"
    }
   ],
   "source": [
    "len(dados)"
   ]
  },
  {
   "cell_type": "code",
   "execution_count": 21,
   "id": "ec945921-3bdf-4ba2-81f9-ca9bf0e11007",
   "metadata": {},
   "outputs": [],
   "source": [
    "tamanho  = 884*0.1\n",
    "intervalo = 884/tamanho\n",
    "tamanho, intervalo = int(tamanho), int(intervalo)"
   ]
  },
  {
   "cell_type": "code",
   "execution_count": 22,
   "id": "6e54264b-7627-4607-8b74-a65bb886c89c",
   "metadata": {},
   "outputs": [
    {
     "name": "stdout",
     "output_type": "stream",
     "text": [
      "88 10\n"
     ]
    }
   ],
   "source": [
    "print(tamanho,intervalo)"
   ]
  },
  {
   "cell_type": "code",
   "execution_count": 23,
   "id": "642b03b9-bc56-464e-a39b-707560437d99",
   "metadata": {},
   "outputs": [
    {
     "name": "stdout",
     "output_type": "stream",
     "text": [
      "[7]\n"
     ]
    }
   ],
   "source": [
    "#semente definida para ser replicavel\n",
    "numpy.random.seed(888)\n",
    "#inicio da lista será definido aleatóriamente\n",
    "r = numpy.random.randint(low = 1, high = intervalo + 1, size= 1)\n",
    "print(r)"
   ]
  },
  {
   "cell_type": "code",
   "execution_count": 25,
   "id": "676fef54-2ee8-43fc-bef9-54c246fc522b",
   "metadata": {},
   "outputs": [
    {
     "name": "stdout",
     "output_type": "stream",
     "text": [
      "[7, 17, 27, 37, 47, 57, 67, 77, 87, 97, 107, 117, 127, 137, 147, 157, 167, 177, 187, 197, 207, 217, 227, 237, 247, 257, 267, 277, 287, 297, 307, 317, 327, 337, 347, 357, 367, 377, 387, 397, 407, 417, 427, 437, 447, 457, 467, 477, 487, 497, 507, 517, 527, 537, 547, 557, 567, 577, 587, 597, 607, 617, 627, 637, 647, 657, 667, 677, 687, 697, 707, 717, 727, 737, 747, 757, 767, 777, 787, 797, 807, 817, 827, 837, 847, 857, 867, 877]\n",
      "88\n"
     ]
    }
   ],
   "source": [
    "acumulador = r[0]\n",
    "lista=[]\n",
    "for i in range(tamanho):\n",
    "    lista.append(acumulador)\n",
    "    acumulador+=intervalo\n",
    "print(lista) \n",
    "print(len(lista))"
   ]
  },
  {
   "cell_type": "code",
   "execution_count": 30,
   "id": "35cd56d1-d630-4e6b-82c6-7685c9a25a8f",
   "metadata": {},
   "outputs": [
    {
     "name": "stdout",
     "output_type": "stream",
     "text": [
      "           data data_modificacao         tipo    raridade\n",
      "7    29/06/2023       30/12/2023       Diário        Raro\n",
      "17   02/07/2023       30/12/2023       Diário  Super Raro\n",
      "27   06/07/2023       30/12/2023       Diário        Raro\n",
      "37   09/07/2023       30/12/2023       Diário        Raro\n",
      "47   12/07/2023       30/12/2023       Diário       Épico\n",
      "..          ...              ...          ...         ...\n",
      "837  09/01/2024       14/01/2024       Diário  Super Raro\n",
      "847  11/01/2024       14/01/2024  Promocional        Raro\n",
      "857  14/01/2024       14/01/2024       Diário        Raro\n",
      "867  15/01/2024       15/01/2024     Mega Pig  Super Raro\n",
      "877  15/01/2024       15/01/2024     Mega Pig        Raro\n",
      "\n",
      "[88 rows x 4 columns]\n"
     ]
    }
   ],
   "source": [
    "#amosta da base total\n",
    "amostra = dados.loc[lista]\n",
    "print(amostra)"
   ]
  }
 ],
 "metadata": {
  "kernelspec": {
   "display_name": "Python 3 (ipykernel)",
   "language": "python",
   "name": "python3"
  },
  "language_info": {
   "codemirror_mode": {
    "name": "ipython",
    "version": 3
   },
   "file_extension": ".py",
   "mimetype": "text/x-python",
   "name": "python",
   "nbconvert_exporter": "python",
   "pygments_lexer": "ipython3",
   "version": "3.11.4"
  }
 },
 "nbformat": 4,
 "nbformat_minor": 5
}
